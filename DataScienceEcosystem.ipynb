{
 "cells": [
  {
   "cell_type": "markdown",
   "id": "a767341b-169f-4f3c-8589-85881db500e2",
   "metadata": {},
   "source": [
    "# Data Science Tools and Ecosystems"
   ]
  },
  {
   "cell_type": "markdown",
   "id": "915f4c5b-d3d4-4f19-a9ad-803445f79ef7",
   "metadata": {},
   "source": [
    "In this notebook, Data Science Tools and Ecosystems are summarized."
   ]
  },
  {
   "cell_type": "markdown",
   "id": "02239b41-9a2a-4fdc-9d09-854cfa26ee43",
   "metadata": {},
   "source": [
    "**Objectives:**\n",
    "- List popular languages for Data Science\n",
    "- List commonly used libraries used for Data Science\n",
    "- List commonly used Data Science Tools\n",
    "- Demonstrate arithmetic expressions in Python"
   ]
  },
  {
   "cell_type": "markdown",
   "id": "adf19786-bbeb-4728-9c00-d943c9d773f6",
   "metadata": {},
   "source": [
    "Some of the popular languages that Data Scientists use are:\n",
    "\n",
    "1. Python\n",
    "2. R\n",
    "3. SQL\n",
    "4. Java\n",
    "5. Scala\n",
    "6. C++\n",
    "\n",
    "... and more."
   ]
  },
  {
   "cell_type": "markdown",
   "id": "9ec947a2-58e8-443a-b10b-d2542287a380",
   "metadata": {},
   "source": [
    "Some of the commonly used libraries used by Data Scientists include:\n",
    "\n",
    "1. Pandas\n",
    "2. NumPy\n",
    "3. SciPy\n",
    "4. TensorFlow\n",
    "5. Matplotlib\n",
    "\n",
    "... and more."
   ]
  },
  {
   "cell_type": "markdown",
   "id": "75092906-0af5-4500-9004-bc2646002d69",
   "metadata": {},
   "source": [
    "| Data Science Tools |\n",
    "| ------------------ |\n",
    "| Jupyter |\n",
    "| RStudio |\n",
    "| Spyder |"
   ]
  },
  {
   "cell_type": "markdown",
   "id": "adbd701b-2ef9-4f45-b2a9-37bc28f5959d",
   "metadata": {
    "tags": []
   },
   "source": [
    "### Below are a few examples of evaluating arithmetic expressions in Python."
   ]
  },
  {
   "cell_type": "code",
   "execution_count": 5,
   "id": "7d77090e-a377-4a83-98ca-331862c67c0e",
   "metadata": {
    "tags": []
   },
   "outputs": [],
   "source": [
    "# This is a simple arithmetic expression to multiply then add integers."
   ]
  },
  {
   "cell_type": "code",
   "execution_count": 4,
   "id": "8a778ef7-c3aa-4748-99b0-5fc51f77b62b",
   "metadata": {
    "tags": []
   },
   "outputs": [
    {
     "data": {
      "text/plain": [
       "17"
      ]
     },
     "execution_count": 4,
     "metadata": {},
     "output_type": "execute_result"
    }
   ],
   "source": [
    "(3*4)+5"
   ]
  },
  {
   "cell_type": "code",
   "execution_count": 6,
   "id": "c05e60de-b271-4627-8f69-e42642585d7e",
   "metadata": {
    "tags": []
   },
   "outputs": [],
   "source": [
    "# This will convert 200 minutes to hours by dividing by 60."
   ]
  },
  {
   "cell_type": "code",
   "execution_count": 9,
   "id": "d4e983ad-3023-4f80-a2bb-35b8f7b08dc2",
   "metadata": {
    "tags": []
   },
   "outputs": [
    {
     "name": "stdout",
     "output_type": "stream",
     "text": [
      "3.3333333333333335\n"
     ]
    }
   ],
   "source": [
    "minutes=200\n",
    "minutesinanhour=60\n",
    "hours=(minutes/minutesinanhour)\n",
    "print(hours)"
   ]
  },
  {
   "cell_type": "code",
   "execution_count": 13,
   "id": "9b8a5a05-40bc-497c-8565-8682381214de",
   "metadata": {
    "tags": []
   },
   "outputs": [],
   "source": [
    "# Here is another way to convert 200 minutes to hours by dividing by 60."
   ]
  },
  {
   "cell_type": "code",
   "execution_count": 14,
   "id": "bf5cbbb9-9f39-4220-aee3-1c7da62b640f",
   "metadata": {
    "tags": []
   },
   "outputs": [
    {
     "data": {
      "text/plain": [
       "3.3333333333333335"
      ]
     },
     "execution_count": 14,
     "metadata": {},
     "output_type": "execute_result"
    }
   ],
   "source": [
    "200/60"
   ]
  },
  {
   "cell_type": "markdown",
   "id": "f61e269a-00d8-4ba1-9380-818555aace6f",
   "metadata": {},
   "source": [
    "## Author\n",
    "Nat Ayres"
   ]
  },
  {
   "cell_type": "code",
   "execution_count": null,
   "id": "2c1d3b73-9721-4826-b063-8c2aeea515e6",
   "metadata": {},
   "outputs": [],
   "source": []
  }
 ],
 "metadata": {
  "kernelspec": {
   "display_name": "Python",
   "language": "python",
   "name": "conda-env-python-py"
  },
  "language_info": {
   "codemirror_mode": {
    "name": "ipython",
    "version": 3
   },
   "file_extension": ".py",
   "mimetype": "text/x-python",
   "name": "python",
   "nbconvert_exporter": "python",
   "pygments_lexer": "ipython3",
   "version": "3.7.12"
  }
 },
 "nbformat": 4,
 "nbformat_minor": 5
}
